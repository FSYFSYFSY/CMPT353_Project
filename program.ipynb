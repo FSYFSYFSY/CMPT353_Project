{
 "cells": [
  {
   "cell_type": "code",
   "execution_count": 36,
   "metadata": {},
   "outputs": [],
   "source": [
    "import numpy as np\n",
    "import pandas as pd\n",
    "from sklearn.model_selection import train_test_split\n",
    "from sklearn.preprocessing import StandardScaler, LabelEncoder, MinMaxScaler\n",
    "from sklearn.naive_bayes import GaussianNB\n",
    "from sklearn.preprocessing import FunctionTransformer\n",
    "from sklearn.neighbors import KNeighborsClassifier\n",
    "from sklearn.ensemble import RandomForestClassifier\n",
    "from sklearn.neural_network import MLPClassifier\n",
    "from sklearn.pipeline import Pipeline\n",
    "import scipy.stats as stats\n",
    "import os\n",
    "import matplotlib.pyplot as plt\n",
    "from sklearn.metrics import accuracy_score, classification_report, confusion_matrix"
   ]
  },
  {
   "cell_type": "markdown",
   "metadata": {},
   "source": [
    "# Load data"
   ]
  },
  {
   "cell_type": "code",
   "execution_count": null,
   "metadata": {},
   "outputs": [],
   "source": [
    "folder_path = 'Data'\n",
    "csv_files = [f for f in os.listdir(folder_path) if f.endswith('.csv')]\n",
    "\n",
    "run_df = pd.DataFrame()\n",
    "walk_df = pd.DataFrame()\n",
    "\n",
    "for file in csv_files:\n",
    "    file_path = os.path.join(folder_path, file)\n",
    "    if 'Run' in file:\n",
    "        temp_df = pd.read_csv(file_path)\n",
    "        run_df = pd.concat([run_df, temp_df], ignore_index=True)\n",
    "    elif 'Walk' in file:\n",
    "        temp_df = pd.read_csv(file_path)\n",
    "        walk_df = pd.concat([walk_df, temp_df], ignore_index=True)\n",
    "\n",
    "fig1 = plt.figure(figsize=(10, 10))\n",
    "ax = fig1.add_subplot(111, projection='3d')\n",
    "\n",
    "sc1 = ax.scatter(walk_df['ax'], walk_df['ay'], walk_df['az'], c=walk_df['time'], cmap='viridis',marker='o', s=1)\n",
    "#ax.scatter(run_df['ax'], run_df['ay'], run_df['az'], c=run_df['time'], cmap='viridis',marker='.', s=0.75)\n",
    "\n",
    "cbar1 = plt.colorbar(sc1, ax=ax, pad=0.1)\n",
    "cbar1.set_label('Time')\n",
    "#ax.scatter(walk_df['ax'], walk_df['ay'], walk_df['az'], c='r', marker='.', s=0.75)\n",
    "#ax.scatter(run_df['ax'], run_df['ay'], run_df['az'], c='b', marker='.', s=0.75)\n",
    "\n",
    "ax.set_title('Walk accelerate')\n",
    "ax.set_xlabel('Ax')\n",
    "ax.set_ylabel('Ay')\n",
    "ax.set_zlabel('Az')\n",
    "\n",
    "plt.show(fig1)"
   ]
  },
  {
   "cell_type": "code",
   "execution_count": null,
   "metadata": {},
   "outputs": [],
   "source": [
    "fig2 = plt.figure(figsize=(10, 10))\n",
    "ax = fig2.add_subplot(111, projection='3d')\n",
    "\n",
    "#sc1 = ax.scatter(walk_df['ax'], walk_df['ay'], walk_df['az'], c=walk_df['time'], cmap='viridis',marker='o', s=1)\n",
    "sc2 = ax.scatter(run_df['ax'], run_df['ay'], run_df['az'], c=run_df['time'], cmap='viridis',marker='o', s = 1)\n",
    "\n",
    "cbar1 = plt.colorbar(sc2, ax=ax, pad=0.1)\n",
    "cbar1.set_label('Time')\n",
    "#ax.scatter(walk_df['ax'], walk_df['ay'], walk_df['az'], c='r', marker='.', s=0.75)\n",
    "#ax.scatter(run_df['ax'], run_df['ay'], run_df['az'], c='b', marker='.', s=0.75)\n",
    "\n",
    "\n",
    "ax.set_xlabel('Ax')\n",
    "ax.set_ylabel('Ay')\n",
    "ax.set_zlabel('Az')\n",
    "\n",
    "plt.show(fig2)"
   ]
  },
  {
   "cell_type": "code",
   "execution_count": 42,
   "metadata": {},
   "outputs": [
    {
     "data": {
      "text/plain": [
       "pandas.core.frame.DataFrame"
      ]
     },
     "execution_count": 42,
     "metadata": {},
     "output_type": "execute_result"
    }
   ],
   "source": [
    "dfs_combined = pd.concat([run_df, walk_df], ignore_index=True)\n",
    "X = dfs_combined[['ax','ay','az','speed']]\n",
    "\n",
    "le = LabelEncoder()\n",
    "y = le.fit_transform(dfs_combined['label'])\n",
    "\n",
    "X_train, X_test, y_train, y_test = train_test_split(X, y, test_size=0.2)\n"
   ]
  },
  {
   "cell_type": "markdown",
   "metadata": {},
   "source": [
    "# Training + StandardScaler - dataclean"
   ]
  },
  {
   "cell_type": "code",
   "execution_count": 43,
   "metadata": {},
   "outputs": [],
   "source": [
    "scaler = StandardScaler()\n",
    "X_train_scaled = scaler.fit_transform(X_train)\n",
    "X_test_scaled = scaler.transform(X_test)"
   ]
  },
  {
   "cell_type": "markdown",
   "metadata": {},
   "source": [
    "## MLP"
   ]
  },
  {
   "cell_type": "code",
   "execution_count": 44,
   "metadata": {},
   "outputs": [
    {
     "name": "stdout",
     "output_type": "stream",
     "text": [
      "Accuracy: 0.97\n",
      "\n",
      "Confusion Matrix:\n",
      "[[1297   62]\n",
      " [   6 1139]]\n"
     ]
    },
    {
     "name": "stderr",
     "output_type": "stream",
     "text": [
      "C:\\Users\\lhg45\\AppData\\Local\\Packages\\PythonSoftwareFoundation.Python.3.11_qbz5n2kfra8p0\\LocalCache\\local-packages\\Python311\\site-packages\\sklearn\\neural_network\\_multilayer_perceptron.py:690: ConvergenceWarning: Stochastic Optimizer: Maximum iterations (200) reached and the optimization hasn't converged yet.\n",
      "  warnings.warn(\n"
     ]
    }
   ],
   "source": [
    "model_nn = MLPClassifier(\n",
    "        solver = 'adam', hidden_layer_sizes=(16,32,64), activation='relu'\n",
    "    )\n",
    "\n",
    "model_nn.fit(X_train_scaled, y_train)\n",
    "y_pred_nn = model_nn.predict(X_test_scaled)\n",
    "\n",
    "# Evaluate the model\n",
    "accuracy_nn = accuracy_score(y_test, y_pred_nn)\n",
    "print(f\"Accuracy: {accuracy_nn:.2f}\")\n",
    "\n",
    "# Print confusion matrix\n",
    "\n",
    "print(\"\\nConfusion Matrix:\")\n",
    "print(confusion_matrix(y_test, y_pred_nn))"
   ]
  },
  {
   "cell_type": "markdown",
   "metadata": {},
   "source": [
    "## Gaussian Naive Bayes"
   ]
  },
  {
   "cell_type": "code",
   "execution_count": 45,
   "metadata": {},
   "outputs": [
    {
     "name": "stdout",
     "output_type": "stream",
     "text": [
      "Accuracy: 0.95\n",
      "\n",
      "Confusion Matrix:\n",
      "[[1266   93]\n",
      " [  44 1101]]\n"
     ]
    }
   ],
   "source": [
    "model_NB =  GaussianNB()\n",
    "model_NB.fit(X_train_scaled, y_train)\n",
    "y_pred_NB = model_NB.predict(X_test_scaled)\n",
    "\n",
    "# Evaluate the model\n",
    "accuracy_NB = accuracy_score(y_test, y_pred_NB)\n",
    "print(f\"Accuracy: {accuracy_NB:.2f}\")\n",
    "\n",
    "print(\"\\nConfusion Matrix:\")\n",
    "print(confusion_matrix(y_test, y_pred_NB))"
   ]
  },
  {
   "cell_type": "markdown",
   "metadata": {},
   "source": [
    "## K-Nearest Neighbors Classifier"
   ]
  },
  {
   "cell_type": "code",
   "execution_count": 46,
   "metadata": {},
   "outputs": [
    {
     "name": "stdout",
     "output_type": "stream",
     "text": [
      "Accuracy: 0.97\n",
      "\n",
      "Confusion Matrix:\n",
      "[[1293   66]\n",
      " [  17 1128]]\n"
     ]
    }
   ],
   "source": [
    "model_knn = KNeighborsClassifier(n_neighbors=10)\n",
    "model_knn.fit(X_train_scaled, y_train)\n",
    "y_pred_knn = model_knn.predict(X_test_scaled)\n",
    "\n",
    "# Evaluate the model\n",
    "accuracy_knn = accuracy_score(y_test, y_pred_knn)\n",
    "print(f\"Accuracy: {accuracy_knn:.2f}\")\n",
    "\n",
    "# Confusion matrix\n",
    "print(\"\\nConfusion Matrix:\")\n",
    "print(confusion_matrix(y_test, y_pred_knn))"
   ]
  },
  {
   "cell_type": "markdown",
   "metadata": {},
   "source": [
    "## Random Forest Classifier"
   ]
  },
  {
   "cell_type": "code",
   "execution_count": 47,
   "metadata": {},
   "outputs": [
    {
     "name": "stdout",
     "output_type": "stream",
     "text": [
      "Accuracy: 0.99\n",
      "\n",
      "Confusion Matrix:\n",
      "[[1345   14]\n",
      " [   6 1139]]\n"
     ]
    }
   ],
   "source": [
    "model_RF = RandomForestClassifier(n_estimators=150, random_state=42)\n",
    "\n",
    "model_RF.fit(X_train_scaled, y_train)\n",
    "y_pred_RF = model_RF.predict(X_test_scaled)\n",
    "\n",
    "# Evaluate the model\n",
    "accuracy_RF = accuracy_score(y_test, y_pred_RF)\n",
    "print(f\"Accuracy: {accuracy_RF:.2f}\")\n",
    "\n",
    "# Print confusion matrix\n",
    "\n",
    "print(\"\\nConfusion Matrix:\")\n",
    "print(confusion_matrix(y_test, y_pred_RF))"
   ]
  }
 ],
 "metadata": {
  "kernelspec": {
   "display_name": "Python 3",
   "language": "python",
   "name": "python3"
  },
  "language_info": {
   "codemirror_mode": {
    "name": "ipython",
    "version": 3
   },
   "file_extension": ".py",
   "mimetype": "text/x-python",
   "name": "python",
   "nbconvert_exporter": "python",
   "pygments_lexer": "ipython3",
   "version": "3.11.9"
  }
 },
 "nbformat": 4,
 "nbformat_minor": 2
}
